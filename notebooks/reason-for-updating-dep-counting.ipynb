{
 "cells": [
  {
   "cell_type": "code",
   "execution_count": 1,
   "metadata": {},
   "outputs": [],
   "source": [
    "from pathlib import Path\n",
    "\n",
    "import polars as pl"
   ]
  },
  {
   "cell_type": "code",
   "execution_count": 4,
   "metadata": {},
   "outputs": [],
   "source": [
    "# Data dir\n",
    "data_dir = (\n",
    "    Path(\"../data/per-day-pkg-releases-metrics-one-year.parquet\")\n",
    "    .expanduser()\n",
    "    .resolve()\n",
    "    .absolute()\n",
    ")\n",
    "\n",
    "# Lazy read parquet files (all files in dir via glob)\n",
    "lazy_frame = pl.scan_parquet(source=data_dir)\n",
    "\n",
    "# Lowercase all column names\n",
    "lazy_frame = lazy_frame.select(pl.all().reverse().name.to_lowercase())\n",
    "\n",
    "# Rename \"normalized_package_manager\" to \"ecosystem\"\n",
    "lazy_frame = lazy_frame.with_columns(\n",
    "    pl.col(\"normalized_package_manager\").alias(\"ecosystem\")\n",
    ")"
   ]
  },
  {
   "cell_type": "code",
   "execution_count": 5,
   "metadata": {},
   "outputs": [
    {
     "data": {
      "text/html": [
       "<div><style>\n",
       ".dataframe > thead > tr,\n",
       ".dataframe > tbody > tr {\n",
       "  text-align: right;\n",
       "  white-space: pre-wrap;\n",
       "}\n",
       "</style>\n",
       "<small>shape: (10, 5)</small><table border=\"1\" class=\"dataframe\"><thead><tr><th>package_version</th><th>num_dependents_on_release_date</th><th>num_dependents_plus_90_days</th><th>num_dependents_plus_180_days</th><th>num_dependents_plus_360_days</th></tr><tr><td>str</td><td>i64</td><td>i64</td><td>i64</td><td>i64</td></tr></thead><tbody><tr><td>&quot;5.0.0&quot;</td><td>1136</td><td>1149</td><td>1150</td><td>1149</td></tr><tr><td>&quot;4.0.0&quot;</td><td>19</td><td>19</td><td>19</td><td>18</td></tr><tr><td>&quot;3.0.0&quot;</td><td>7</td><td>7</td><td>7</td><td>6</td></tr><tr><td>&quot;2.0.0&quot;</td><td>4</td><td>5</td><td>5</td><td>5</td></tr><tr><td>&quot;6.0.0&quot;</td><td>1062</td><td>1085</td><td>1056</td><td>1028</td></tr><tr><td>&quot;1.0.0&quot;</td><td>0</td><td>2</td><td>2</td><td>2</td></tr><tr><td>&quot;10.0.0&quot;</td><td>199</td><td>196</td><td>203</td><td>200</td></tr><tr><td>&quot;65.0.0&quot;</td><td>17</td><td>17</td><td>17</td><td>17</td></tr><tr><td>&quot;3.0.0&quot;</td><td>769</td><td>0</td><td>796</td><td>829</td></tr><tr><td>&quot;7.0.0&quot;</td><td>3</td><td>3</td><td>3</td><td>3</td></tr></tbody></table></div>"
      ],
      "text/plain": [
       "shape: (10, 5)\n",
       "┌─────────────────┬────────────────────┬───────────────────┬───────────────────┬───────────────────┐\n",
       "│ package_version ┆ num_dependents_on_ ┆ num_dependents_pl ┆ num_dependents_pl ┆ num_dependents_pl │\n",
       "│ ---             ┆ release_date       ┆ us_90_days        ┆ us_180_days       ┆ us_360_days       │\n",
       "│ str             ┆ ---                ┆ ---               ┆ ---               ┆ ---               │\n",
       "│                 ┆ i64                ┆ i64               ┆ i64               ┆ i64               │\n",
       "╞═════════════════╪════════════════════╪═══════════════════╪═══════════════════╪═══════════════════╡\n",
       "│ 5.0.0           ┆ 1136               ┆ 1149              ┆ 1150              ┆ 1149              │\n",
       "│ 4.0.0           ┆ 19                 ┆ 19                ┆ 19                ┆ 18                │\n",
       "│ 3.0.0           ┆ 7                  ┆ 7                 ┆ 7                 ┆ 6                 │\n",
       "│ 2.0.0           ┆ 4                  ┆ 5                 ┆ 5                 ┆ 5                 │\n",
       "│ 6.0.0           ┆ 1062               ┆ 1085              ┆ 1056              ┆ 1028              │\n",
       "│ 1.0.0           ┆ 0                  ┆ 2                 ┆ 2                 ┆ 2                 │\n",
       "│ 10.0.0          ┆ 199                ┆ 196               ┆ 203               ┆ 200               │\n",
       "│ 65.0.0          ┆ 17                 ┆ 17                ┆ 17                ┆ 17                │\n",
       "│ 3.0.0           ┆ 769                ┆ 0                 ┆ 796               ┆ 829               │\n",
       "│ 7.0.0           ┆ 3                  ┆ 3                 ┆ 3                 ┆ 3                 │\n",
       "└─────────────────┴────────────────────┴───────────────────┴───────────────────┴───────────────────┘"
      ]
     },
     "execution_count": 5,
     "metadata": {},
     "output_type": "execute_result"
    }
   ],
   "source": [
    "# Counts from \"major releases\"\n",
    "lazy_frame.filter(\n",
    "    pl.col(\"ecosystem\").is_in([\"npm\", \"pypi\", \"rubygems\"])\n",
    ").filter(\n",
    "    pl.col(\"release_type\") != \"unknown\"\n",
    ").filter(\n",
    "    pl.col(\"release_type\").eq(\"major\")\n",
    ").filter(\n",
    "    pl.col(\"num_dependents_plus_180_days\").gt(pl.lit(1))\n",
    ").select(\n",
    "    pl.col([\n",
    "        \"package_version\",\n",
    "        \"num_dependents_on_release_date\",\n",
    "        \"num_dependents_plus_90_days\",\n",
    "        \"num_dependents_plus_180_days\",\n",
    "        \"num_dependents_plus_360_days\",\n",
    "    ])\n",
    ").collect().sample(10, seed=12)"
   ]
  },
  {
   "cell_type": "code",
   "execution_count": 6,
   "metadata": {},
   "outputs": [
    {
     "data": {
      "text/html": [
       "<div><style>\n",
       ".dataframe > thead > tr,\n",
       ".dataframe > tbody > tr {\n",
       "  text-align: right;\n",
       "  white-space: pre-wrap;\n",
       "}\n",
       "</style>\n",
       "<small>shape: (10, 5)</small><table border=\"1\" class=\"dataframe\"><thead><tr><th>package_version</th><th>num_dependents_on_release_date</th><th>num_dependents_plus_90_days</th><th>num_dependents_plus_180_days</th><th>num_dependents_plus_360_days</th></tr><tr><td>str</td><td>i64</td><td>i64</td><td>i64</td><td>i64</td></tr></thead><tbody><tr><td>&quot;4.37.0&quot;</td><td>176</td><td>179</td><td>180</td><td>182</td></tr><tr><td>&quot;11.33.0&quot;</td><td>4</td><td>4</td><td>4</td><td>6</td></tr><tr><td>&quot;2.6.0&quot;</td><td>10</td><td>9</td><td>12</td><td>16</td></tr><tr><td>&quot;3.1.0&quot;</td><td>68</td><td>69</td><td>69</td><td>73</td></tr><tr><td>&quot;8.1.0&quot;</td><td>2047</td><td>2137</td><td>2191</td><td>2271</td></tr><tr><td>&quot;1.1.0&quot;</td><td>2</td><td>4</td><td>4</td><td>6</td></tr><tr><td>&quot;14.2.0&quot;</td><td>3</td><td>3</td><td>3</td><td>3</td></tr><tr><td>&quot;9.7.0&quot;</td><td>475</td><td>491</td><td>495</td><td>499</td></tr><tr><td>&quot;1.6.0&quot;</td><td>66</td><td>72</td><td>73</td><td>72</td></tr><tr><td>&quot;5.18.0&quot;</td><td>389</td><td>392</td><td>391</td><td>397</td></tr></tbody></table></div>"
      ],
      "text/plain": [
       "shape: (10, 5)\n",
       "┌─────────────────┬────────────────────┬───────────────────┬───────────────────┬───────────────────┐\n",
       "│ package_version ┆ num_dependents_on_ ┆ num_dependents_pl ┆ num_dependents_pl ┆ num_dependents_pl │\n",
       "│ ---             ┆ release_date       ┆ us_90_days        ┆ us_180_days       ┆ us_360_days       │\n",
       "│ str             ┆ ---                ┆ ---               ┆ ---               ┆ ---               │\n",
       "│                 ┆ i64                ┆ i64               ┆ i64               ┆ i64               │\n",
       "╞═════════════════╪════════════════════╪═══════════════════╪═══════════════════╪═══════════════════╡\n",
       "│ 4.37.0          ┆ 176                ┆ 179               ┆ 180               ┆ 182               │\n",
       "│ 11.33.0         ┆ 4                  ┆ 4                 ┆ 4                 ┆ 6                 │\n",
       "│ 2.6.0           ┆ 10                 ┆ 9                 ┆ 12                ┆ 16                │\n",
       "│ 3.1.0           ┆ 68                 ┆ 69                ┆ 69                ┆ 73                │\n",
       "│ 8.1.0           ┆ 2047               ┆ 2137              ┆ 2191              ┆ 2271              │\n",
       "│ 1.1.0           ┆ 2                  ┆ 4                 ┆ 4                 ┆ 6                 │\n",
       "│ 14.2.0          ┆ 3                  ┆ 3                 ┆ 3                 ┆ 3                 │\n",
       "│ 9.7.0           ┆ 475                ┆ 491               ┆ 495               ┆ 499               │\n",
       "│ 1.6.0           ┆ 66                 ┆ 72                ┆ 73                ┆ 72                │\n",
       "│ 5.18.0          ┆ 389                ┆ 392               ┆ 391               ┆ 397               │\n",
       "└─────────────────┴────────────────────┴───────────────────┴───────────────────┴───────────────────┘"
      ]
     },
     "execution_count": 6,
     "metadata": {},
     "output_type": "execute_result"
    }
   ],
   "source": [
    "# Counts from \"minor releases\"\n",
    "lazy_frame.filter(\n",
    "    pl.col(\"ecosystem\").is_in([\"npm\", \"pypi\", \"rubygems\"])\n",
    ").filter(\n",
    "    pl.col(\"release_type\") != \"unknown\"\n",
    ").filter(\n",
    "    pl.col(\"release_type\").eq(\"minor\")\n",
    ").filter(\n",
    "    pl.col(\"num_dependents_plus_180_days\").gt(pl.lit(1))\n",
    ").select(\n",
    "    pl.col([\n",
    "        \"package_version\",\n",
    "        \"num_dependents_on_release_date\",\n",
    "        \"num_dependents_plus_90_days\",\n",
    "        \"num_dependents_plus_180_days\",\n",
    "        \"num_dependents_plus_360_days\",\n",
    "    ])\n",
    ").collect().sample(10, seed=12)"
   ]
  }
 ],
 "metadata": {
  "kernelspec": {
   "display_name": "dg-uoi",
   "language": "python",
   "name": "python3"
  },
  "language_info": {
   "codemirror_mode": {
    "name": "ipython",
    "version": 3
   },
   "file_extension": ".py",
   "mimetype": "text/x-python",
   "name": "python",
   "nbconvert_exporter": "python",
   "pygments_lexer": "ipython3",
   "version": "3.12.9"
  }
 },
 "nbformat": 4,
 "nbformat_minor": 2
}
